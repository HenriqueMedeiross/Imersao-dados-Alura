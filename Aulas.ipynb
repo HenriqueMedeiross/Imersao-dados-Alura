{
 "cells": [
  {
   "source": [
    "# Aula 01"
   ],
   "cell_type": "markdown",
   "metadata": {}
  },
  {
   "cell_type": "code",
   "execution_count": null,
   "metadata": {},
   "outputs": [],
   "source": [
    "import pandas as pd\n",
    "import matplotlib.pyplot as plt\n",
    "import seaborn as sns\n",
    "from ipywidgets import interact, interactive, fixed, interact_manual\n",
    "import ipywidgets as widgets\n",
    "import numpy as np\n"
   ]
  },
  {
   "cell_type": "code",
   "execution_count": null,
   "metadata": {},
   "outputs": [],
   "source": [
    "fonte = \"https://github.com/alura-cursos/imersao-dados-2-2020/blob/master/MICRODADOS_ENEM_2019_SAMPLE_43278.csv?raw=true\"\n",
    "\n",
    "dados = pd.read_csv(fonte)\n",
    "dadoshead = dados.head()"
   ]
  },
  {
   "cell_type": "code",
   "execution_count": null,
   "metadata": {},
   "outputs": [],
   "source": [
    "dados.shape"
   ]
  },
  {
   "cell_type": "code",
   "execution_count": null,
   "metadata": {},
   "outputs": [],
   "source": [
    "colunadados = dados.columns.values\n",
    "colunadados"
   ]
  },
  {
   "cell_type": "code",
   "execution_count": null,
   "metadata": {},
   "outputs": [],
   "source": [
    "dados[\"SG_UF_RESIDENCIA\"]"
   ]
  },
  {
   "cell_type": "code",
   "execution_count": null,
   "metadata": {},
   "outputs": [],
   "source": [
    "dados[\"SG_UF_RESIDENCIA\"].unique()"
   ]
  },
  {
   "cell_type": "code",
   "execution_count": null,
   "metadata": {},
   "outputs": [],
   "source": [
    "len(dados[\"SG_UF_RESIDENCIA\"].unique())"
   ]
  },
  {
   "cell_type": "code",
   "execution_count": null,
   "metadata": {},
   "outputs": [],
   "source": [
    "dados[\"SG_UF_RESIDENCIA\"].value_counts()"
   ]
  },
  {
   "cell_type": "code",
   "execution_count": null,
   "metadata": {},
   "outputs": [],
   "source": [
    "dados[\"NU_IDADE\"].value_counts()"
   ]
  },
  {
   "source": [
    "# Desafio 01 - Proporçao dos inscritos por idade"
   ],
   "cell_type": "markdown",
   "metadata": {}
  },
  {
   "cell_type": "code",
   "execution_count": null,
   "metadata": {},
   "outputs": [],
   "source": [
    "def f(x = 18):\n",
    "    total = dados[\"NU_IDADE\"].value_counts().sum()\n",
    "    dados_por_idade = dados[\"NU_IDADE\"].value_counts()\n",
    "    percentual_por_idade = dados_por_idade*100/total\n",
    "    print(percentual_por_idade.loc[percentual_por_idade.index == x])\n",
    "interact(f,x=widgets.IntSlider(min=13, max=100, step=1, value=18))"
   ]
  },
  {
   "source": [
    "# Desafio 02 - Descobrir de quais estados sao os inscritos com 13 anos"
   ],
   "cell_type": "markdown",
   "metadata": {}
  },
  {
   "source": [
    "dados[[\"NU_IDADE\",\"SG_UF_RESIDENCIA\"]].loc[dados[\"NU_IDADE\"] == 13]"
   ],
   "cell_type": "code",
   "metadata": {},
   "execution_count": null,
   "outputs": []
  },
  {
   "source": [
    "# Desafio 03 - Colocar titulo no gráfico\n"
   ],
   "cell_type": "markdown",
   "metadata": {}
  },
  {
   "cell_type": "code",
   "execution_count": null,
   "metadata": {},
   "outputs": [],
   "source": [
    "dados[\"NU_IDADE\"].hist(bins = 30)\n",
    "plt.title(\"Histograma das idades\")\n",
    "plt.xlabel(\"Idade\")\n",
    "plt.ylabel(\"QTD de pessoas\")"
   ]
  },
  {
   "source": [
    "# Desafio 04 - Plotar os Histogramas das idades dos treineiros e dos nao treineiros"
   ],
   "cell_type": "markdown",
   "metadata": {}
  },
  {
   "cell_type": "code",
   "execution_count": null,
   "metadata": {},
   "outputs": [],
   "source": [
    "fig,axs = plt.subplots(2,figsize = (16,8),sharex=True,sharey=True)\n",
    "fig.suptitle('Plots')\n",
    "dados.query(\"IN_TREINEIRO == 1\")[\"NU_IDADE\"].value_counts().sort_index().plot(kind = \"bar\",ax = axs[0])\n",
    "dados.query(\"IN_TREINEIRO != 1\")[\"NU_IDADE\"].value_counts().sort_index().plot(kind = \"bar\",ax = axs[1])\n",
    "axs[0].set_title('Grafico dos trainees')\n",
    "axs[1].set_title('Grafico dos não trainees')\n"
   ]
  },
  {
   "cell_type": "code",
   "execution_count": null,
   "metadata": {},
   "outputs": [],
   "source": [
    "prova = [\"NU_NOTA_CN\",\"NU_NOTA_CH\",\"NU_NOTA_MT\",\"NU_NOTA_LC\",\"NU_NOTA_REDACAO\"]\n",
    "\n",
    "dados[prova].describe()"
   ]
  },
  {
   "cell_type": "code",
   "execution_count": null,
   "metadata": {},
   "outputs": [],
   "source": [
    "dados[prova].quantile(0.8)"
   ]
  },
  {
   "cell_type": "code",
   "execution_count": null,
   "metadata": {},
   "outputs": [],
   "source": [
    "dados[\"NU_NOTA_REDACAO\"].hist(bins = 100,figsize=(15,10))"
   ]
  },
  {
   "cell_type": "code",
   "execution_count": null,
   "metadata": {},
   "outputs": [],
   "source": [
    "dados.query(\"TP_LINGUA == 1\")"
   ]
  },
  {
   "source": [
    "# Aula02"
   ],
   "cell_type": "markdown",
   "metadata": {}
  },
  {
   "source": [
    "## Desafio do Gui bonzinho - aumentar a amostra para alunos menores de idade e compara a proporçao por estado"
   ],
   "cell_type": "markdown",
   "metadata": {}
  },
  {
   "cell_type": "code",
   "execution_count": null,
   "metadata": {},
   "outputs": [],
   "source": [
    "def desafioDoGui(Menores_que,Iguais_a):    \n",
    "    fig,axs = plt.subplots(1,2,figsize=(15,3),sharex=False,sharey=False)\n",
    "    plt.tight_layout(pad = 2)\n",
    "    dados.query(f\"NU_IDADE <= {Menores_que}\")[\"SG_UF_RESIDENCIA\"].value_counts(normalize = True).sort_index().plot.bar(ax = axs[0])\n",
    "    dados.query(f\"NU_IDADE == {Iguais_a}\")[\"SG_UF_RESIDENCIA\"].value_counts(normalize = True).sort_index().plot.bar(ax = axs[1])\n",
    "    axs[0].set_title(f'Grafico das idades menores ou iguais aos {Menores_que} anos')\n",
    "    axs[1].set_title(f'Grafico igual a {Iguais_a} anos')\n",
    "interact(desafioDoGui,Menores_que=widgets.IntSlider(min=13, max=100, step=1, value=18,),Iguais_a=widgets.IntSlider(min=13, max=100, step=1, value=18))"
   ]
  },
  {
   "cell_type": "code",
   "execution_count": null,
   "metadata": {},
   "outputs": [],
   "source": [
    "listaOrdenaRenda = dados[\"Q006\"].unique()\n",
    "listaOrdenaRenda.sort()\n",
    "plt.figure(figsize=(12,6))\n",
    "sns.boxplot(x = 'Q006', y='NU_NOTA_MT',data = dados,order=listaOrdenaRenda)\n",
    "plt.show()"
   ]
  },
  {
   "cell_type": "code",
   "execution_count": null,
   "metadata": {},
   "outputs": [],
   "source": [
    "listaOrdenaRaca = [0,1,4,3,2,5] # Ordem: nao declarados, branco, amarelo, pardo, preto, indigena\n",
    "plt.figure(figsize=(12,6))\n",
    "sns.boxplot(x = 'TP_COR_RACA', y='NU_NOTA_REDACAO',data = dados,order=listaOrdenaRaca)"
   ]
  },
  {
   "cell_type": "code",
   "execution_count": null,
   "metadata": {},
   "outputs": [],
   "source": [
    "prova = [\"NU_NOTA_CN\",\"NU_NOTA_CH\",\"NU_NOTA_MT\",\"NU_NOTA_LC\",\"NU_NOTA_REDACAO\"]\n",
    "dados[prova].describe()"
   ]
  },
  {
   "cell_type": "code",
   "execution_count": null,
   "metadata": {},
   "outputs": [],
   "source": [
    "media_notas_indiv = dados[prova].sum(axis=1)/len(prova)\n",
    "dados['NU_NOTA_TOTAL'] = media_notas_indiv\n",
    "\n",
    "plt.figure(figsize=(12,6))\n",
    "sns.boxplot(x = 'Q006', y=media_notas_indiv,data = dados,order=listaOrdenaRenda)\n",
    "media_notas_indiv.describe()"
   ]
  },
  {
   "source": [
    "## Desafio 3 - criar uma funçao de plotagem"
   ],
   "cell_type": "markdown",
   "metadata": {}
  },
  {
   "cell_type": "code",
   "execution_count": null,
   "metadata": {},
   "outputs": [],
   "source": [
    "def plotagem(grupos,medida,organiza = None,dados = dados,eixo = None): # Recebe: grupos (lsita/serie, contendo categorizaçao de algum valor), medida (valores a serem medidos), organiza (lista para ordenar a plotagem de acordo com os grupos)\n",
    "    return sns.boxplot(x = grupos, y = medida, data = dados, order = organiza, ax = eixo)"
   ]
  },
  {
   "cell_type": "code",
   "execution_count": null,
   "metadata": {},
   "outputs": [],
   "source": [
    "prova.append('NU_NOTA_TOTAL')"
   ]
  },
  {
   "cell_type": "code",
   "execution_count": null,
   "metadata": {},
   "outputs": [],
   "source": [
    "plt.figure(figsize=(20,3))\n",
    "\n",
    "plt.subplot(131,title = 'Grafico desorganizado da media das notas de cada individuo')\n",
    "plotagem('Q006', media_notas_indiv)\n",
    "plt.subplot(132, title = 'Grafico organizado')\n",
    "plotagem('Q006', 'NU_NOTA_TOTAL',organiza=listaOrdenaRenda)\n",
    "plt.subplot(133, title='Grafico das notas dividido pela raça')\n",
    "plotagem('TP_COR_RACA', media_notas_indiv,organiza = listaOrdenaRaca)\n",
    "plt.show()"
   ]
  },
  {
   "cell_type": "code",
   "execution_count": null,
   "metadata": {},
   "outputs": [],
   "source": [
    "sns.distplot(dados['NU_NOTA_TOTAL'])"
   ]
  },
  {
   "cell_type": "code",
   "execution_count": null,
   "metadata": {},
   "outputs": [],
   "source": [
    "presenca = ['TP_PRESENCA_LC','TP_PRESENCA_MT']\n",
    "prova = ['NU_NOTA_CH','NU_NOTA_LC','NU_NOTA_MT','NU_NOTA_CN','NU_NOTA_REDACAO','NU_NOTA_TOTAL']"
   ]
  },
  {
   "source": [
    "## Desafio 5 - verificar se quem é eliminado tira nota 0 ou é NAN"
   ],
   "cell_type": "markdown",
   "metadata": {}
  },
  {
   "cell_type": "code",
   "execution_count": null,
   "metadata": {},
   "outputs": [],
   "source": [
    "eliminados_ou_ausentes_notaZero = dados.query(f\"({presenca[0]} == 2 | {presenca[1]} == 2)\")\n",
    "eliminados_ou_ausentes_notaZero = eliminados_ou_ausentes_notaZero[['NU_NOTA_MT', \"NU_NOTA_LC\",presenca[1],presenca[0]]]\n",
    "eliminados_ou_ausentes_notaZero"
   ]
  },
  {
   "cell_type": "code",
   "execution_count": null,
   "metadata": {},
   "outputs": [],
   "source": [
    "treineiros = dados.query(\"IN_TREINEIRO == 1\")\n",
    "nao_treineiros = dados.query('IN_TREINEIRO != 1')\n",
    "\n",
    "figure,(ax1,ax2) = plt.subplots(2,1,sharey =False,figsize = (16,6))\n",
    "figure.tight_layout(pad = 3)\n",
    "ax1.set_title('Grafico dos treineiros')\n",
    "ax2.set_title('Grafico dos nao treineiros')\n",
    "sns.histplot(treineiros,x=treineiros.sort_values(\"Q006\")[\"Q006\"],ax = ax1)\n",
    "sns.histplot(nao_treineiros,x = nao_treineiros.sort_values(\"Q006\")[\"Q006\"],ax = ax2)"
   ]
  },
  {
   "cell_type": "code",
   "execution_count": null,
   "metadata": {},
   "outputs": [],
   "source": [
    "plotagem('Q025','NU_NOTA_TOTAL',organiza=['A','B'])\n",
    "len(dados.query('Q025 == \"A\"')),len(dados.query('Q025 == \"B\"'))"
   ]
  },
  {
   "cell_type": "code",
   "execution_count": null,
   "metadata": {},
   "outputs": [],
   "source": [
    "dados_sem_nota_0 = dados.query('NU_NOTA_TOTAL != 0')\n",
    "fig,(ax1,ax2) = plt.subplots(1,2,figsize = (10,5))\n",
    "fig.tight_layout(pad = 4)\n",
    "plotagem('Q025','NU_NOTA_TOTAL',organiza=['A','B'],dados = dados_sem_nota_0,eixo=ax1)\n",
    "sns.histplot(data = dados_sem_nota_0,x= dados_sem_nota_0.sort_values('Q025')['Q025'],ax = ax2)\n",
    "len(dados_sem_nota_0.query('Q025 == \"A\"')),len(dados_sem_nota_0.query('Q025 == \"B\"'))"
   ]
  },
  {
   "source": [
    "# Aula 03"
   ],
   "cell_type": "markdown",
   "metadata": {}
  },
  {
   "cell_type": "code",
   "execution_count": null,
   "metadata": {},
   "outputs": [],
   "source": [
    "sns.histplot(dados_sem_nota_0,x='NU_NOTA_TOTAL')"
   ]
  },
  {
   "source": [
    "## Desafio 01 - plotar mediana media e moda"
   ],
   "cell_type": "markdown",
   "metadata": {}
  },
  {
   "cell_type": "code",
   "execution_count": null,
   "metadata": {},
   "outputs": [],
   "source": [
    "media = dados_sem_nota_0['NU_NOTA_MT'].mean()\n",
    "mediana = dados_sem_nota_0['NU_NOTA_MT'].sort_values().quantile(0.5)\n",
    "moda = dados_sem_nota_0['NU_NOTA_MT'].mode()[0]\n",
    "plt.figure(figsize=(10,5))\n",
    "sns.histplot(dados_sem_nota_0,x='NU_NOTA_MT',color='black')\n",
    "plt.axvline(media,color = 'red', linestyle = 'dashed',label = f'Média: {media}')\n",
    "plt.axvline(mediana,color = 'cyan', linestyle = 'dashed',label = f'Mediana: {mediana}')\n",
    "plt.axvline(moda,color = 'white', linestyle = 'dashed',label = f'Moda: {moda}')\n",
    "plt.axvline()\n",
    "plt.legend()"
   ]
  },
  {
   "cell_type": "code",
   "execution_count": null,
   "metadata": {},
   "outputs": [],
   "source": [
    "media = dados_sem_nota_0['NU_NOTA_LC'].mean()\n",
    "mediana = dados_sem_nota_0['NU_NOTA_LC'].sort_values().quantile(0.5)\n",
    "moda = dados_sem_nota_0['NU_NOTA_LC'].mode()[0]\n",
    "plt.figure(figsize=(10,5))\n",
    "sns.histplot(dados_sem_nota_0,x='NU_NOTA_LC',color = 'k') \n",
    "plt.axvline(media,color = 'red', linestyle = 'dashed',label = f'Média: {media}')\n",
    "plt.axvline(mediana,color = 'cyan', linestyle = 'dashed',label = f'Mediana: {mediana}')\n",
    "plt.axvline(moda,color = 'white', linestyle = 'dashed',label = f'Moda: {moda}')\n",
    "plt.axvline()\n",
    "plt.legend()"
   ]
  },
  {
   "cell_type": "code",
   "execution_count": null,
   "metadata": {},
   "outputs": [],
   "source": [
    "fig,axs = plt.subplots(1,2,figsize=(15,5))\n",
    "sns.histplot(dados_sem_nota_0,x='NU_NOTA_TOTAL',hue='Q025',kde=True,ax = axs[0])\n",
    "plotagem(grupos='Q025',medida= 'NU_NOTA_TOTAL',dados = dados_sem_nota_0,eixo = axs[1])"
   ]
  },
  {
   "cell_type": "code",
   "execution_count": null,
   "metadata": {},
   "outputs": [],
   "source": [
    "sns.histplot(dados_sem_nota_0,x='NU_NOTA_TOTAL',hue='Q025',kde=True,stat = 'density',cumulative = True)"
   ]
  },
  {
   "cell_type": "code",
   "execution_count": null,
   "metadata": {},
   "outputs": [],
   "source": [
    "plt.figure(figsize=(5,5))\n",
    "sns.scatterplot(data = dados_sem_nota_0,x='NU_NOTA_MT', y='NU_NOTA_LC')\n",
    "plt.xlim((-50,1050))\n",
    "plt.ylim((-50,1050))"
   ]
  },
  {
   "cell_type": "code",
   "execution_count": null,
   "metadata": {},
   "outputs": [],
   "source": [
    "correlacao = dados_sem_nota_0[prova].corr()\n",
    "correlacao"
   ]
  },
  {
   "cell_type": "code",
   "execution_count": null,
   "metadata": {},
   "outputs": [],
   "source": [
    "sns.heatmap(correlacao,cmap='Reds',annot=True)"
   ]
  },
  {
   "cell_type": "code",
   "execution_count": null,
   "metadata": {},
   "outputs": [],
   "source": [
    "import dask.dataframe as dd\n",
    "df = dd.read_csv('D:/Data/microdados_enem_2019/DADOS/MICRODADOS_ENEM_2019.csv',encoding = \"ISO-8859-1\", sep=\";\")\n",
    "enem_uberlandia = df.query('NO_MUNICIPIO_RESIDENCIA == \"Uberlândia\"').compute()"
   ]
  },
  {
   "source": [
    "## Desafio 02 - remover da diagonal pra cima"
   ],
   "cell_type": "markdown",
   "metadata": {}
  },
  {
   "cell_type": "code",
   "execution_count": null,
   "metadata": {},
   "outputs": [],
   "source": [
    "mask = np.zeros_like(correlacao)\n",
    "mask[np.triu_indices_from(mask)] = True\n",
    "sns.heatmap(correlacao,cmap='Reds',annot=True,mask=mask)"
   ]
  },
  {
   "source": [
    "## Desafio 03 - Comparar a amostra com "
   ],
   "cell_type": "markdown",
   "metadata": {}
  },
  {
   "cell_type": "code",
   "execution_count": null,
   "metadata": {},
   "outputs": [],
   "source": [
    "prova = ['NU_NOTA_CH','NU_NOTA_LC','NU_NOTA_MT','NU_NOTA_CN','NU_NOTA_REDACAO']\n",
    "enem_uberlandia['NU_NOTA_TOTAL'] = enem_uberlandia[prova].sum(axis = 1)/len(prova)\n",
    "prova.append('NU_NOTA_TOTAL')\n",
    "enem_uberlandia[prova].corr()"
   ]
  },
  {
   "cell_type": "code",
   "execution_count": null,
   "metadata": {},
   "outputs": [],
   "source": [
    "enem_uberlandia[prova].corr()"
   ]
  },
  {
   "cell_type": "code",
   "execution_count": null,
   "metadata": {},
   "outputs": [],
   "source": [
    "from matplotlib.axes import Axes\n",
    "correl_udi = enem_uberlandia[prova].corr()\n",
    "fig, axs = plt.subplots(1,2,figsize = (20,5))\n",
    "plt.tight_layout(pad = 8)\n",
    "sns.heatmap(correl_udi,cmap = 'Reds',ax = axs[0],annot = True,center = 0.75)\n",
    "sns.heatmap(dados[prova].corr(),cmap = 'Reds',ax = axs[1],annot = True,center = 0.75)\n",
    "Axes.set_title(axs[0],'Grafico Uberlândia')\n",
    "Axes.set_title(axs[1],'Grafico Amostra')"
   ]
  },
  {
   "source": [
    "# Aula 04"
   ],
   "cell_type": "markdown",
   "metadata": {}
  },
  {
   "cell_type": "code",
   "execution_count": null,
   "metadata": {},
   "outputs": [],
   "source": [
    "provas_entrada = ['NU_NOTA_CH','NU_NOTA_LC','NU_NOTA_CN','NU_NOTA_REDACAO']\n",
    "prova_saida = ['NU_NOTA_MT']\n",
    "dados_sem_nota_0 = dados_sem_nota_0[prova].dropna()\n",
    "notas_entrada = dados_sem_nota_0[provas_entrada]\n",
    "notas_saida = dados_sem_nota_0[prova_saida]"
   ]
  },
  {
   "cell_type": "code",
   "execution_count": null,
   "metadata": {},
   "outputs": [],
   "source": [
    "x = notas_entrada\n",
    "y = notas_saida"
   ]
  },
  {
   "cell_type": "code",
   "execution_count": null,
   "metadata": {},
   "outputs": [],
   "source": [
    "from sklearn.model_selection import train_test_split\n",
    "\n",
    "seed = 54321\n",
    "x_treino,x_teste, y_treino, y_teste =  train_test_split(x,y,test_size = 0.25,random_state = seed)"
   ]
  },
  {
   "cell_type": "code",
   "execution_count": null,
   "metadata": {},
   "outputs": [],
   "source": [
    "from sklearn.svm import LinearSVR\n",
    "\n",
    "modelo = LinearSVR(random_state=seed)\n",
    "modelo.fit(x_treino,y_treino)"
   ]
  },
  {
   "cell_type": "code",
   "execution_count": null,
   "metadata": {},
   "outputs": [],
   "source": [
    "predicoes_mat = modelo.predict(x_teste)"
   ]
  },
  {
   "cell_type": "code",
   "execution_count": null,
   "metadata": {},
   "outputs": [],
   "source": [
    "plt.figure(figsize=(8,8))\n",
    "plt.xlim((-50,1050))\n",
    "plt.ylim((-50,1050))\n",
    "sns.scatterplot(x = predicoes_mat, y = y_teste['NU_NOTA_MT'])"
   ]
  },
  {
   "source": [
    "## Desafio - Analise estatistica simples (media,mediana) vs modelo SVR"
   ],
   "cell_type": "markdown",
   "metadata": {}
  },
  {
   "cell_type": "code",
   "execution_count": null,
   "metadata": {},
   "outputs": [],
   "source": [
    "fig,axs = plt.subplots(1,3,figsize = (30,10))\n",
    "limitex = (-50,850)\n",
    "limitey = (250,1050)\n",
    "axs[0].set_xlim(limitex)\n",
    "axs[2].set_xlim(limitex)\n",
    "axs[0].set_ylim(limitey)\n",
    "axs[2].set_ylim(limitey)\n",
    "axs[0].set_title('Grafico da media')\n",
    "axs[2].set_title('Grafico da mediana')\n",
    "axs[1].set_xlim(limitex)\n",
    "axs[1].set_ylim(limitey)\n",
    "axs[1].set_title('Grafico do modelo')\n",
    "sns.scatterplot(x = x_teste.mean(axis=1), y = y_teste['NU_NOTA_MT'],ax = axs[0])\n",
    "sns.scatterplot(x = predicoes_mat, y = y_teste['NU_NOTA_MT'],ax = axs[1])\n",
    "sns.scatterplot(x = x_teste.median(axis=1), y = y_teste['NU_NOTA_MT'],ax = axs[2])"
   ]
  },
  {
   "cell_type": "code",
   "execution_count": null,
   "metadata": {},
   "outputs": [],
   "source": [
    "resultados = pd.DataFrame()\n",
    "resultados['Real'] = y_teste['NU_NOTA_MT']\n",
    "resultados['Previsao']= predicoes_mat\n",
    "resultados['diferenca'] = resultados['Real'] - resultados['Previsao']\n",
    "resultados['quadrado_diferenca'] = resultados['diferenca']**2\n",
    "resultados"
   ]
  },
  {
   "cell_type": "code",
   "execution_count": null,
   "metadata": {},
   "outputs": [],
   "source": [
    "from sklearn.dummy import DummyRegressor\n",
    "modelo_dummy = DummyRegressor()\n",
    "modelo_dummy.fit(x_treino,y_treino)\n",
    "dummy_predicoes = modelo_dummy.predict(x_teste)"
   ]
  },
  {
   "cell_type": "code",
   "execution_count": null,
   "metadata": {},
   "outputs": [],
   "source": [
    "from sklearn.metrics import mean_squared_error\n",
    "\n",
    "\n",
    "mean_squared_error(y_teste,predicoes_mat),mean_squared_error(y_teste,dummy_predicoes)"
   ]
  },
  {
   "cell_type": "code",
   "execution_count": null,
   "metadata": {},
   "outputs": [],
   "source": [
    "resultados['quadrado_diferenca'].mean()"
   ]
  },
  {
   "source": [
    "# Aula 05 "
   ],
   "cell_type": "markdown",
   "metadata": {}
  },
  {
   "cell_type": "code",
   "execution_count": null,
   "metadata": {},
   "outputs": [],
   "source": [
    "from sklearn.svm import LinearSVR\n",
    "\n",
    "modelo = LinearSVR(random_state=seed)\n",
    "modelo.fit(x_treino,y_treino)\n",
    "predicoes_mat = modelo.predict(x_teste)\n",
    "mean_squared_error(y_teste,predicoes_mat)"
   ]
  },
  {
   "cell_type": "code",
   "execution_count": null,
   "metadata": {},
   "outputs": [],
   "source": [
    "from sklearn.tree import DecisionTreeRegressor\n",
    "x_treino,x_teste,y_treino,y_teste = train_test_split(x,y,test_size = 0.25)\n",
    "modelo_arvore = DecisionTreeRegressor(max_depth=3)\n",
    "modelo_arvore.fit(x_treino,y_treino)\n",
    "predicoes_mat_arvore = modelo_arvore.predict(x_teste)\n",
    "mean_squared_error(y_teste,predicoes_mat_arvore)"
   ]
  },
  {
   "cell_type": "code",
   "execution_count": null,
   "metadata": {},
   "outputs": [],
   "source": [
    "from sklearn.model_selection import cross_validate\n",
    "\n",
    "modelo_arvore = DecisionTreeRegressor(max_depth=3)\n",
    "resultado_cross = cross_validate(modelo_arvore, x,y,cv = 10, scoring ='neg_mean_squared_error')\n",
    "media_cross = (resultado_cross['test_score']*-1).mean()\n",
    "desvio_padrao = (resultado_cross['test_score']*-1).std()\n",
    "lim_inferior = media - (2*desvio_padrao)\n",
    "lim_superior = media + (2*desvio_padrao)\n",
    "print(f'intervalo de confiança {lim_inferior} - {lim_superior}')"
   ]
  },
  {
   "cell_type": "code",
   "execution_count": null,
   "metadata": {},
   "outputs": [],
   "source": [
    "def calcula_mse(resultado_cross):\n",
    "    media_cross = (resultado_cross['test_score']*-1).mean()\n",
    "    desvio_padrao = (resultado_cross['test_score']*-1).std()\n",
    "    lim_inferior = media_cross - (2*desvio_padrao)\n",
    "    lim_superior = media_cross + (2*desvio_padrao)\n",
    "    print(f'intervalo de confiança {lim_inferior} - {lim_superior}')"
   ]
  },
  {
   "cell_type": "code",
   "execution_count": null,
   "metadata": {},
   "outputs": [],
   "source": [
    "from sklearn.model_selection import KFold\n",
    "np.random.seed(seed)\n",
    "\n",
    "partes = KFold(n_splits = 10,shuffle = True)\n",
    "modelo_arvore = DecisionTreeRegressor(max_depth=5)\n",
    "resultado_cross = cross_validate(modelo_arvore, x,y,cv = partes, scoring ='neg_mean_squared_error')\n",
    "calcula_mse(resultado_cross)"
   ]
  },
  {
   "cell_type": "code",
   "execution_count": null,
   "metadata": {},
   "outputs": [],
   "source": [
    "def regressor_arvore(nivel):   \n",
    "    np.random.seed(seed)\n",
    "    partes = KFold(n_splits = 10,shuffle = True)\n",
    "    modelo_arvore = DecisionTreeRegressor(max_depth=nivel)\n",
    "    resultado_cross = cross_validate(modelo_arvore, x,y,cv = partes, scoring ='neg_mean_squared_error')\n",
    "    print(f'Teste = {(resultado_cross[\"test_score\"]*-1).mean()}')\n",
    "\n",
    "#for i in range(21):\n",
    "    #regressor_arvore(i)"
   ]
  },
  {
   "source": [
    "## Desafio 02 - Testar com outros parâmetros da árvore de decisão\n",
    "## Desafio 03 - Como realizar ajustes de parâmetros com Sklearn\n",
    "## Desafio 05 Plotar um gráfico com test_score e train_test"
   ],
   "cell_type": "markdown",
   "metadata": {}
  }
 ],
 "metadata": {
  "kernelspec": {
   "display_name": "Python 3",
   "language": "python",
   "name": "python3"
  },
  "language_info": {
   "codemirror_mode": {
    "name": "ipython",
    "version": 3
   },
   "file_extension": ".py",
   "mimetype": "text/x-python",
   "name": "python",
   "nbconvert_exporter": "python",
   "pygments_lexer": "ipython3",
   "version": "3.8.3-final"
  }
 },
 "nbformat": 4,
 "nbformat_minor": 4
}